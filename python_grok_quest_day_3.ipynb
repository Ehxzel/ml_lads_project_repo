{
 "cells": [
  {
   "cell_type": "code",
   "execution_count": 1,
   "id": "d0fb0125-0059-4f7f-b4a2-43ab00c89df4",
   "metadata": {},
   "outputs": [
    {
     "name": "stdin",
     "output_type": "stream",
     "text": [
      "Enter a number (or 'done' to finish):  2\n",
      "Enter a number (or 'done' to finish):  3\n",
      "Enter a number (or 'done' to finish):  4\n",
      "Enter a number (or 'done' to finish):  5\n",
      "Enter a number (or 'done' to finish):  6\n",
      "Enter a number (or 'done' to finish):  7\n",
      "Enter a number (or 'done' to finish):  8\n",
      "Enter a number (or 'done' to finish):  9\n",
      "Enter a number (or 'done' to finish):  11\n",
      "Enter a number (or 'done' to finish):  2\n",
      "Enter a number (or 'done' to finish):  35\n",
      "Enter a number (or 'done' to finish):  23\n",
      "Enter a number (or 'done' to finish):  45\n",
      "Enter a number (or 'done' to finish):  67\n",
      "Enter a number (or 'done' to finish):  done\n"
     ]
    },
    {
     "name": "stdout",
     "output_type": "stream",
     "text": [
      "Total: 227, Average: 16.214285714285715, Max: 67, Min: 2, List: [2, 3, 4, 5, 6, 7, 8, 9, 11, 2, 35, 23, 45, 67]\n"
     ]
    }
   ],
   "source": [
    "# Day 3: Shadow Blade - Dynamic Sum + Stats\n",
    "x = []\n",
    "while True:\n",
    "    num = input(\"Enter a number (or 'done' to finish): \")\n",
    "    if num == 'done':\n",
    "        break\n",
    "    x.append(int(num))\n",
    "total = sum(x)\n",
    "avg = total / len(x) if x else 0\n",
    "max_val = max(x) if x else 0\n",
    "min_val = min(x) if x else 0\n",
    "print(f\"Total: {total}, Average: {avg}, Max: {max_val}, Min: {min_val}, List: {x}\")"
   ]
  },
  {
   "cell_type": "code",
   "execution_count": null,
   "id": "a605c801-d1b0-4687-ad4d-b6c87aa0365d",
   "metadata": {},
   "outputs": [],
   "source": []
  }
 ],
 "metadata": {
  "kernelspec": {
   "display_name": "Python 3 (ipykernel)",
   "language": "python",
   "name": "python3"
  },
  "language_info": {
   "codemirror_mode": {
    "name": "ipython",
    "version": 3
   },
   "file_extension": ".py",
   "mimetype": "text/x-python",
   "name": "python",
   "nbconvert_exporter": "python",
   "pygments_lexer": "ipython3",
   "version": "3.13.2"
  }
 },
 "nbformat": 4,
 "nbformat_minor": 5
}
