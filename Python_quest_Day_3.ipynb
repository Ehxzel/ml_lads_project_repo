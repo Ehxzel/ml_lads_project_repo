{
 "cells": [
  {
   "cell_type": "code",
   "execution_count": 1,
   "id": "a28a51f0-aaba-4b68-ac15-cf57a41e63a9",
   "metadata": {},
   "outputs": [
    {
     "name": "stdin",
     "output_type": "stream",
     "text": [
      "Enter a number (or 'done' to finish):  5\n",
      "Enter a number (or 'done' to finish):  6\n",
      "Enter a number (or 'done' to finish):  7\n",
      "Enter a number (or 'done' to finish):  8\n",
      "Enter a number (or 'done' to finish):  9\n",
      "Enter a number (or 'done' to finish):  done\n"
     ]
    },
    {
     "name": "stdout",
     "output_type": "stream",
     "text": [
      "Total: 35, Average: 7.0, List: [5, 6, 7, 8, 9]\n"
     ]
    }
   ],
   "source": [
    "# Day 2: Shadow Forge - Dynamic Sum + Avg\n",
    "x = []\n",
    "while True:\n",
    "    num = input(\"Enter a number (or 'done' to finish): \")\n",
    "    if num == 'done':\n",
    "        break\n",
    "    x.append(int(num))\n",
    "total_sum = sum(x)\n",
    "avg = total_sum / len(x) if x else 0\n",
    "print(f\"Total: {total_sum}, Average: {avg}, List: {x}\")"
   ]
  },
  {
   "cell_type": "code",
   "execution_count": null,
   "id": "8179d860-e357-4a83-994e-a2fb01a71ddc",
   "metadata": {},
   "outputs": [],
   "source": []
  }
 ],
 "metadata": {
  "kernelspec": {
   "display_name": "Python 3 (ipykernel)",
   "language": "python",
   "name": "python3"
  },
  "language_info": {
   "codemirror_mode": {
    "name": "ipython",
    "version": 3
   },
   "file_extension": ".py",
   "mimetype": "text/x-python",
   "name": "python",
   "nbconvert_exporter": "python",
   "pygments_lexer": "ipython3",
   "version": "3.13.2"
  }
 },
 "nbformat": 4,
 "nbformat_minor": 5
}
