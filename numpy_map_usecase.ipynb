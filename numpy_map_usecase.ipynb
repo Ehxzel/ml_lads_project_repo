{
 "cells": [
  {
   "cell_type": "code",
   "execution_count": 15,
   "id": "15c9de11-46ee-42bb-9426-e129bd150903",
   "metadata": {},
   "outputs": [
    {
     "name": "stdout",
     "output_type": "stream",
     "text": [
      "The sum of the elements in the List, amounts to 28, the list is displayed also, [0, 1, 2, 3, 4, 5, 6, 7]\n"
     ]
    }
   ],
   "source": [
    "# aAke 1% Progress in advancing my Python knowledge.\n",
    "# Writting a code to sum up a series of numbers in a List.\n",
    "\n",
    "import random\n",
    "import numpy as np\n",
    "\n",
    "x = []\n",
    "\n",
    "for i in range(8):\n",
    "    x.append(i)    # I just thought of this really cool way to solve the problem, depending on the number of elements in the list, \n",
    "                    # I could have created as many variables as possible to host them, but I made use of the random function and synced it with a for-loop\n",
    "\n",
    "total_list = sum(x)\n",
    "print(f\"The sum of the elements in the List, amounts to {total_list}, the list is displayed also, {x}\")\n",
    "\n"
   ]
  },
  {
   "cell_type": "code",
   "execution_count": 16,
   "id": "05292cf9-b023-477b-9a3a-146ef68c84bf",
   "metadata": {},
   "outputs": [
    {
     "name": "stdout",
     "output_type": "stream",
     "text": [
      "[np.int64(0), np.int64(1), np.int64(4), np.int64(9), np.int64(16), np.int64(25), np.int64(36), np.int64(49)]\n"
     ]
    }
   ],
   "source": [
    "# Performaning operation on the List using Map, np, Lambda.\n",
    "\n",
    "x = np.array(x)\n",
    "\n",
    "\n",
    " #proceeding to Sum\n",
    "total_list = list(map(lambda x: x**2, x))\n",
    "print((total_list))"
   ]
  },
  {
   "cell_type": "code",
   "execution_count": 29,
   "id": "46ab2566-298e-4f96-af42-5170ad879543",
   "metadata": {},
   "outputs": [
    {
     "name": "stdout",
     "output_type": "stream",
     "text": [
      "[0, 1, 32, 243, 1024, 3125, 7776, 16807]\n"
     ]
    }
   ],
   "source": [
    "# Performing operations the Pythonista's way\n",
    "\n",
    "x = np.array(x)\n",
    "squared_list = (x**5).tolist()\n",
    "print(squared_list)\n",
    "\n",
    "summ_powr_list = (squared_list)\n",
    "print(summ_powr_list)"
   ]
  },
  {
   "cell_type": "code",
   "execution_count": null,
   "id": "05e13237-5830-4dc8-8222-0a078393ffe8",
   "metadata": {},
   "outputs": [],
   "source": []
  }
 ],
 "metadata": {
  "kernelspec": {
   "display_name": "Python 3 (ipykernel)",
   "language": "python",
   "name": "python3"
  },
  "language_info": {
   "codemirror_mode": {
    "name": "ipython",
    "version": 3
   },
   "file_extension": ".py",
   "mimetype": "text/x-python",
   "name": "python",
   "nbconvert_exporter": "python",
   "pygments_lexer": "ipython3",
   "version": "3.13.2"
  }
 },
 "nbformat": 4,
 "nbformat_minor": 5
}
